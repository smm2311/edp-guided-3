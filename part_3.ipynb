{
 "cells": [
  {
   "cell_type": "code",
   "execution_count": 8,
   "metadata": {},
   "outputs": [],
   "source": [
    "import pandas as pd\n",
    "import pickle\n",
    "\n",
    "df = pd.read_csv('big_data\\\\troop_movements_1m.csv')\n",
    "\n",
    "with open('data\\\\model.pkl', 'rb') as f:\n",
    "    model = pickle.load(f)"
   ]
  },
  {
   "cell_type": "code",
   "execution_count": 9,
   "metadata": {},
   "outputs": [
    {
     "name": "stderr",
     "output_type": "stream",
     "text": [
      "C:\\Users\\wasadmin\\AppData\\Local\\Temp\\2\\ipykernel_1052\\710341891.py:8: FutureWarning: A value is trying to be set on a copy of a DataFrame or Series through chained assignment using an inplace method.\n",
      "The behavior will change in pandas 3.0. This inplace method will never work because the intermediate object on which we are setting values always behaves as a copy.\n",
      "\n",
      "For example, when doing 'df[col].method(value, inplace=True)', try using 'df.method({col: value}, inplace=True)' or df[col] = df[col].method(value) instead, to perform the operation inplace on the original object.\n",
      "\n",
      "\n",
      "  df['unit_type'].replace('invalid_unit', 'unknown', inplace=True)\n"
     ]
    },
    {
     "name": "stdout",
     "output_type": "stream",
     "text": [
      "test in valid unit: \n",
      "Empty DataFrame\n",
      "Columns: [timestamp, unit_id, unit_type, location_x, location_y, destination_x, destination_y, homeworld]\n",
      "Index: []\n",
      "test: \n",
      "Empty DataFrame\n",
      "Columns: [timestamp, unit_id, unit_type, location_x, location_y, destination_x, destination_y, homeworld]\n",
      "Index: []\n",
      "                  timestamp  unit_id     unit_type  location_x  location_y  \\\n",
      "0       2023-06-03 03:19:15   919214  tie_silencer         2.0         5.0   \n",
      "1       2023-02-24 13:50:40  9467154  stormtrooper         9.0         0.0   \n",
      "2       2023-03-29 19:54:55  6585778  tie_silencer         0.0         6.0   \n",
      "3       2023-04-30 00:58:11  3878023  tie_silencer         4.0         2.0   \n",
      "4       2023-04-10 22:00:26  5537117         at-st         6.0         8.0   \n",
      "...                     ...      ...           ...         ...         ...   \n",
      "999995  2023-05-03 18:48:56  3553240   tie_fighter         8.0         4.0   \n",
      "999996  2023-05-25 13:45:35  1662636         at-at         0.0         3.0   \n",
      "999997  2023-05-17 12:16:37  2362262   tie_fighter         6.0         8.0   \n",
      "999998  2023-03-17 08:04:26  7669749   tie_fighter         9.0         3.0   \n",
      "999999  2023-05-19 12:29:02  2187995         at-st         9.0         4.0   \n",
      "\n",
      "        destination_x  destination_y    homeworld  \n",
      "0                   9              3  Aleen Minor  \n",
      "1                   9              1    Malastare  \n",
      "2                   5              9      Serenno  \n",
      "3                   9              9         Tund  \n",
      "4                   5              8        Skako  \n",
      "...               ...            ...          ...  \n",
      "999995              8              1    Chandrila  \n",
      "999996              8              6    Trandosha  \n",
      "999997              7              9     Kashyyyk  \n",
      "999998              3              5        Zolan  \n",
      "999999              7              4      Dagobah  \n",
      "\n",
      "[1000000 rows x 8 columns]\n"
     ]
    }
   ],
   "source": [
    "# Clean up the data.\n",
    "\n",
    "# df.dropna(inplace=True)\n",
    "df.drop_duplicates(inplace=True)\n",
    "\n",
    "df.columns = df.columns.str.strip()\n",
    "\n",
    "df['unit_type'].replace('invalid_unit', 'unknown', inplace=True)\n",
    "\n",
    "\n",
    "\n",
    "df[['location_x', 'location_y']].ffill()\n",
    "\n",
    "print(\"test in valid unit: \")\n",
    "test1 = df[df['unit_type'] == 'invalid_unit']\n",
    "print(test1)\n",
    "\n",
    "print(\"test: \")\n",
    "test = df[df['location_x'] == None]\n",
    "print(test)\n",
    "\n",
    "print(df)\n"
   ]
  },
  {
   "cell_type": "code",
   "execution_count": 10,
   "metadata": {},
   "outputs": [
    {
     "name": "stdout",
     "output_type": "stream",
     "text": [
      "Defaulting to user installation because normal site-packages is not writeable\n",
      "Requirement already satisfied: pyarrow in c:\\users\\wasadmin\\appdata\\roaming\\python\\python312\\site-packages (20.0.0)\n",
      "Defaulting to user installation because normal site-packages is not writeable\n",
      "Requirement already satisfied: fastparquet in c:\\users\\wasadmin\\appdata\\roaming\\python\\python312\\site-packages (2024.11.0)\n",
      "Requirement already satisfied: pandas>=1.5.0 in c:\\users\\wasadmin\\appdata\\roaming\\python\\python312\\site-packages (from fastparquet) (2.2.2)\n",
      "Requirement already satisfied: numpy in c:\\users\\wasadmin\\appdata\\roaming\\python\\python312\\site-packages (from fastparquet) (1.26.4)\n",
      "Requirement already satisfied: cramjam>=2.3 in c:\\users\\wasadmin\\appdata\\roaming\\python\\python312\\site-packages (from fastparquet) (2.10.0)\n",
      "Requirement already satisfied: fsspec in c:\\users\\wasadmin\\appdata\\roaming\\python\\python312\\site-packages (from fastparquet) (2025.5.1)\n",
      "Requirement already satisfied: packaging in c:\\users\\wasadmin\\appdata\\roaming\\python\\python312\\site-packages (from fastparquet) (24.0)\n",
      "Requirement already satisfied: python-dateutil>=2.8.2 in c:\\users\\wasadmin\\appdata\\roaming\\python\\python312\\site-packages (from pandas>=1.5.0->fastparquet) (2.9.0.post0)\n",
      "Requirement already satisfied: pytz>=2020.1 in c:\\users\\wasadmin\\appdata\\roaming\\python\\python312\\site-packages (from pandas>=1.5.0->fastparquet) (2024.1)\n",
      "Requirement already satisfied: tzdata>=2022.7 in c:\\users\\wasadmin\\appdata\\roaming\\python\\python312\\site-packages (from pandas>=1.5.0->fastparquet) (2024.1)\n",
      "Requirement already satisfied: six>=1.5 in c:\\users\\wasadmin\\appdata\\roaming\\python\\python312\\site-packages (from python-dateutil>=2.8.2->pandas>=1.5.0->fastparquet) (1.16.0)\n"
     ]
    }
   ],
   "source": [
    "# Save the data to Parquet.\n",
    "! pip install pyarrow\n",
    "! pip install fastparquet\n",
    "\n",
    "import pyarrow\n",
    "import fastparquet"
   ]
  },
  {
   "cell_type": "code",
   "execution_count": 11,
   "metadata": {},
   "outputs": [],
   "source": [
    "# Load the parquet file\n",
    "\n",
    "df.to_parquet('big_data\\\\troop_movements_1m.parquet')\n"
   ]
  },
  {
   "cell_type": "code",
   "execution_count": 22,
   "metadata": {},
   "outputs": [
    {
     "name": "stdout",
     "output_type": "stream",
     "text": [
      "Predictions: [[ True False]\n",
      " [False False]\n",
      " [ True False]\n",
      " ...\n",
      " [False  True]\n",
      " [False  True]\n",
      " [ True False]]\n",
      "                  timestamp  unit_id     unit_type  location_x  location_y  \\\n",
      "0       2023-06-03 03:19:15   919214  tie_silencer         2.0         5.0   \n",
      "1       2023-02-24 13:50:40  9467154  stormtrooper         9.0         0.0   \n",
      "2       2023-03-29 19:54:55  6585778  tie_silencer         0.0         6.0   \n",
      "3       2023-04-30 00:58:11  3878023  tie_silencer         4.0         2.0   \n",
      "4       2023-04-10 22:00:26  5537117         at-st         6.0         8.0   \n",
      "...                     ...      ...           ...         ...         ...   \n",
      "999995  2023-05-03 18:48:56  3553240   tie_fighter         8.0         4.0   \n",
      "999996  2023-05-25 13:45:35  1662636         at-at         0.0         3.0   \n",
      "999997  2023-05-17 12:16:37  2362262   tie_fighter         6.0         8.0   \n",
      "999998  2023-03-17 08:04:26  7669749   tie_fighter         9.0         3.0   \n",
      "999999  2023-05-19 12:29:02  2187995         at-st         9.0         4.0   \n",
      "\n",
      "        destination_x  destination_y    homeworld  predictions  \\\n",
      "0                   9              3  Aleen Minor        False   \n",
      "1                   9              1    Malastare        False   \n",
      "2                   5              9      Serenno        False   \n",
      "3                   9              9         Tund        False   \n",
      "4                   5              8        Skako         True   \n",
      "...               ...            ...          ...          ...   \n",
      "999995              8              1    Chandrila         True   \n",
      "999996              8              6    Trandosha        False   \n",
      "999997              7              9     Kashyyyk         True   \n",
      "999998              3              5        Zolan         True   \n",
      "999999              7              4      Dagobah        False   \n",
      "\n",
      "        predictions (resistance)  \n",
      "0                          False  \n",
      "1                          False  \n",
      "2                          False  \n",
      "3                          False  \n",
      "4                           True  \n",
      "...                          ...  \n",
      "999995                      True  \n",
      "999996                     False  \n",
      "999997                      True  \n",
      "999998                      True  \n",
      "999999                     False  \n",
      "\n",
      "[1000000 rows x 10 columns]\n"
     ]
    }
   ],
   "source": [
    "# Add predictions to DF.\n",
    "X_encoded = pd.get_dummies(df[['homeworld', 'unit_type']])\n",
    "\n",
    "predictions = model.predict(X_encoded)\n",
    "print(f\"Predictions: {predictions}\")\n",
    "\n",
    "df['predictions (resistance)'] = predictions[:, 1]\n",
    "print(df)"
   ]
  }
 ],
 "metadata": {
  "kernelspec": {
   "display_name": "Python 3.12.3",
   "language": "python",
   "name": "py312"
  },
  "language_info": {
   "codemirror_mode": {
    "name": "ipython",
    "version": 3
   },
   "file_extension": ".py",
   "mimetype": "text/x-python",
   "name": "python",
   "nbconvert_exporter": "python",
   "pygments_lexer": "ipython3",
   "version": "3.12.3"
  }
 },
 "nbformat": 4,
 "nbformat_minor": 2
}
